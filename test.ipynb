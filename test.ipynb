{
 "cells": [
  {
   "cell_type": "code",
   "execution_count": 1,
   "metadata": {},
   "outputs": [
    {
     "name": "stderr",
     "output_type": "stream",
     "text": [
      "/home/superbench/anaconda3/envs/zhichenz/lib/python3.9/site-packages/tqdm/auto.py:21: TqdmWarning: IProgress not found. Please update jupyter and ipywidgets. See https://ipywidgets.readthedocs.io/en/stable/user_install.html\n",
      "  from .autonotebook import tqdm as notebook_tqdm\n"
     ]
    },
    {
     "name": "stderr",
     "output_type": "stream",
     "text": [
      "Loading checkpoint shards: 100%|██████████| 4/4 [00:01<00:00,  2.05it/s]"
     ]
    },
    {
     "name": "stdout",
     "output_type": "stream",
     "text": [
      "model\n",
      "lm_head\n",
      "4096\n",
      "128256\n",
      "torch.Size([128256, 4096])\n",
      "None\n"
     ]
    },
    {
     "name": "stderr",
     "output_type": "stream",
     "text": [
      "\n"
     ]
    }
   ],
   "source": [
    "import transformers\n",
    "import torch\n",
    "from transformers import AutoTokenizer, LlamaTokenizer, AutoModelForCausalLM, PreTrainedTokenizerFast\n",
    "# from models.modeling_llama import LlamaForCausalLM\n",
    "# from models.yarn_llama.modeling_llama_together_yarn import LlamaForCausalLM as yarnLlamaForCausalLM\n",
    "# from models.chatglm.modeling_chatglm import ChatGPT3LMHeadModel\n",
    "# from models.mistral.modeling_mistral import MistralForCausalLM\n",
    "import torch.nn as nn\n",
    "model = AutoModelForCausalLM.from_pretrained(\"/dev/shm/Meta-Llama-3-8B/\")\n",
    "# print(model)\n",
    "# for name, module in model.named_children():\n",
    "#     print(name)\n",
    "#     current_key_name = []\n",
    "#     current_key_name.append(name)\n",
    "#     if (isinstance(module, nn.Linear)):\n",
    "#         in_features = module.in_features\n",
    "#         out_features = module.out_features\n",
    "#         weight = module.weight\n",
    "#         bias = module.bias\n",
    "#         print(in_features)\n",
    "#         print(out_features)\n",
    "#         print(weight.shape)\n",
    "#         print(bias)\n",
    "for layer in model.model.layers:\n",
    "    print(layer.self_attn)\n",
    "    print(model.in_features)\n",
    "    in_features = module.in_features\n",
    "    out_features = module.out_features\n",
    "    weight = module.weight\n",
    "    bias = module.bias\n",
    "        \n",
    "    #     model._modules[name] = QLinear(\n",
    "    #         in_features,\n",
    "    #         out_features,\n",
    "    #         module.bias is not None,\n",
    "    #         compute_dtype=compute_dtype,\n",
    "    #         quant_type=quant_type,\n",
    "    #         q_group_size=q_group_size\n",
    "    #     )\n",
    "\n",
    "    #     model._modules[name].weight = weight\n",
    "    #     model._modules[name].bias = bias\n",
    "    #     has_been_replaced = True\n",
    "    #     # Store the module class in case we need to transpose the weight later\n",
    "    #     model._modules[name].source_cls = type(module)\n",
    "    # if len(list(module.children())) > 0:\n",
    "    #     _, has_been_replaced = convertModelToQuant(\n",
    "    #         module,\n",
    "    #         modules_to_not_convert,\n",
    "    #         current_key_name,\n",
    "    #         has_been_replaced,\n",
    "    #         compute_dtype,\n",
    "    #         quant_type,\n",
    "    #         q_group_size\n",
    "    #     )\n",
    "    # # Remove the last key for recursion\n",
    "    # current_key_name.pop(-1)"
   ]
  },
  {
   "cell_type": "code",
   "execution_count": 96,
   "metadata": {},
   "outputs": [
    {
     "name": "stdout",
     "output_type": "stream",
     "text": [
      "torch.Size([16, 128])\n",
      "tensor(1.0000)\n"
     ]
    }
   ],
   "source": [
    "import transformers\n",
    "import torch\n",
    "from transformers import AutoTokenizer, LlamaTokenizer, AutoModelForCausalLM, PreTrainedTokenizerFast\n",
    "import torch.nn as nn\n",
    "from torch.autograd import Function\n",
    "\n",
    "class Round(Function):\n",
    "    @staticmethod\n",
    "    def forward(self, input):\n",
    "        sign = torch.sign(input)\n",
    "        output = sign * torch.floor(torch.abs(input) + 0.5)\n",
    "        return output\n",
    "\n",
    "    @staticmethod\n",
    "    def backward(self, grad_output):\n",
    "        grad_input = grad_output.clone()\n",
    "        return grad_input\n",
    "    \n",
    "class SteInt2AsymQuantizer(nn.Module):\n",
    "    def __init__(self, q_group_size=128):\n",
    "        super().__init__()\n",
    "        self.q_group_size = q_group_size\n",
    "        self.bit = 16\n",
    "    def forward(self, x):\n",
    "        org_w_shape = x.shape\n",
    "\n",
    "        if self.q_group_size > 0:\n",
    "            assert org_w_shape[-1] % self.q_group_size == 0\n",
    "            x = x.reshape(-1, self.q_group_size)\n",
    "            print(x.shape)\n",
    "        assert x.dim() == 2\n",
    "\n",
    "        max_val = x.amax(dim=1, keepdim=True)\n",
    "        min_val = x.amin(dim=1, keepdim=True)\n",
    "        max_int = 2 ** self.bit - 1\n",
    "        min_int = 0\n",
    "        scales = (max_val - min_val).clamp(min=1e-5) / max_int\n",
    "        zeros = (-torch.round(min_val / scales)).clamp_(min_int, max_int)\n",
    "\n",
    "        assert torch.isnan(scales).sum() == 0\n",
    "        assert torch.isnan(x).sum() == 0\n",
    "\n",
    "        x = (torch.clamp(Round.apply(x / scales) +\n",
    "                         zeros, min_int, max_int) - zeros) * scales\n",
    "        assert torch.isnan(x).sum() == 0\n",
    "\n",
    "        x = x.reshape(org_w_shape)\n",
    "\n",
    "        return x\n",
    "bs, seq, num_heads, head_dim = 1, 2, 8, 128\n",
    "tensor = torch.randn(bs, seq, num_heads, head_dim)\n",
    "new_tensor = tensor.clone()\n",
    "quant = SteInt2AsymQuantizer()\n",
    "new_tensor=quant(new_tensor)\n",
    "# compare with the original\n",
    "# print((tensor-new_tensor)/tensor)\n",
    "similarity = torch.nn.functional.cosine_similarity(tensor.flatten(), new_tensor.flatten(), dim=0)\n",
    "print(similarity)\n",
    "\n"
   ]
  },
  {
   "cell_type": "code",
   "execution_count": 2,
   "metadata": {},
   "outputs": [
    {
     "data": {
      "text/plain": [
       "<module 'cpu_adam' from '/home/superbench/.cache/torch_extensions/py39_cu121/cpu_adam/cpu_adam.so'>"
      ]
     },
     "execution_count": 2,
     "metadata": {},
     "output_type": "execute_result"
    }
   ],
   "source": [
    "import deepspeed\n",
    "deepspeed.ops.op_builder.CPUAdamBuilder().load()"
   ]
  },
  {
   "cell_type": "code",
   "execution_count": 2,
   "metadata": {},
   "outputs": [
    {
     "name": "stdout",
     "output_type": "stream",
     "text": [
      "Data has been written to combined_output.xlsx\n"
     ]
    }
   ],
   "source": [
    "import pandas as pd\n",
    "import json\n",
    "import os\n",
    "import numpy as np\n",
    "\n",
    "# Define paths to the JSON files\n",
    "json_file_paths = [\n",
    "    '/home/superbench/zhichenz/BitDistillerAttn/test/longbench/pred/Meta-Llama-3-8B-Instruct/K16V16_sp0.0_g1/result.json',\n",
    "    '/home/superbench/zhichenz/BitDistillerAttn/test/longbench/pred/Meta-Llama-3-8B-Instruct_ft22_d/K2V2_sp0.0_g32/result.json',\n",
    "    '/home/superbench/zhichenz/BitDistillerAttn/test/longbench/pred/Meta-Llama-3-8B-Instruct_ft22/K2V2_sp0.0_g32/result.json',\n",
    "    '/home/superbench/zhichenz/BitDistillerAttn/test/longbench/pred/Meta-Llama-3-8B-Instruct_c/K2V2_sp0.0_g32/result.json',\n",
    "]\n",
    "\n",
    "# List to hold DataFrames\n",
    "df_list = []\n",
    "\n",
    "# Iterate over each JSON file path\n",
    "for idx, json_file_path in enumerate(json_file_paths):\n",
    "    with open(json_file_path, 'r') as file:\n",
    "        json_data = json.load(file)\n",
    "        ordered_json_data = {\n",
    "            \"narrativeqa\": json_data.get(\"narrativeqa\", np.nan),\n",
    "            \"qasper\": json_data.get(\"qasper\", np.nan),\n",
    "            \"multifieldqa_en\": json_data.get(\"multifieldqa_en\", np.nan),\n",
    "            \"hotpotqa\": json_data.get(\"hotpotqa\", np.nan),\n",
    "            \"2wikimqa\": json_data.get(\"2wikimqa\", np.nan),\n",
    "            \"musique\": json_data.get(\"musique\", np.nan),\n",
    "            \"gov_report\": json_data.get(\"gov_report\", np.nan),\n",
    "            \"qmsum\": json_data.get(\"qmsum\", np.nan),\n",
    "            \"multi_news\": json_data.get(\"multi_news\", np.nan),\n",
    "            \"trec\": json_data.get(\"trec\", np.nan),\n",
    "            \"triviaqa\": json_data.get(\"triviaqa\", np.nan),\n",
    "            \"samsum\": json_data.get(\"samsum\", np.nan),\n",
    "            \"passage_count\": json_data.get(\"passage_count\", np.nan),\n",
    "            \"lcc\": json_data.get(\"lcc\", np.nan),\n",
    "            \"repobench-p\": json_data.get(\"repobench-p\", np.nan)\n",
    "        }\n",
    "\n",
    "        # Convert the ordered JSON data to a pandas DataFrame\n",
    "        df = pd.DataFrame(list(ordered_json_data.items()), columns=[\"Dataset\", f\"Value{idx+1}\"])\n",
    "        df_list.append(df)\n",
    "\n",
    "# Merge all DataFrames on the 'Dataset' column\n",
    "combined_df = pd.concat(df_list, axis=1)\n",
    "\n",
    "# Remove duplicate 'Dataset' columns if any\n",
    "combined_df = combined_df.loc[:, ~combined_df.columns.duplicated()]\n",
    "\n",
    "# Transpose the DataFrame to display it horizontally (optional)\n",
    "df_transposed = combined_df.T\n",
    "\n",
    "# Write the DataFrame to an Excel file\n",
    "df_transposed.to_excel('combined_output.xlsx', header=False)\n",
    "\n",
    "print(\"Data has been written to combined_output.xlsx\")\n"
   ]
  }
 ],
 "metadata": {
  "kernelspec": {
   "display_name": "zhichenz",
   "language": "python",
   "name": "python3"
  },
  "language_info": {
   "codemirror_mode": {
    "name": "ipython",
    "version": 3
   },
   "file_extension": ".py",
   "mimetype": "text/x-python",
   "name": "python",
   "nbconvert_exporter": "python",
   "pygments_lexer": "ipython3",
   "version": "3.9.19"
  }
 },
 "nbformat": 4,
 "nbformat_minor": 2
}
